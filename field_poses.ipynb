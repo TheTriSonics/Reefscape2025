{
 "cells": [
  {
   "cell_type": "code",
   "execution_count": 5,
   "metadata": {},
   "outputs": [],
   "source": [
    "import wpilib\n",
    "from robotpy_apriltag import AprilTagFieldLayout, AprilTagField"
   ]
  },
  {
   "cell_type": "code",
   "execution_count": 6,
   "metadata": {},
   "outputs": [
    {
     "data": {
      "text/plain": [
       "Pose3d(Translation3d(x=4.904740, y=4.745482, z=0.308102), Rotation3d(x=0.000000, y=0.000000, z=1.047198))"
      ]
     },
     "execution_count": 6,
     "metadata": {},
     "output_type": "execute_result"
    }
   ],
   "source": [
    "\n",
    "field = AprilTagFieldLayout.loadField(AprilTagField.k2025ReefscapeWelded)\n",
    "pose = field.getTagPose(20)\n",
    "pose"
   ]
  },
  {
   "cell_type": "code",
   "execution_count": 7,
   "metadata": {},
   "outputs": [],
   "source": [
    "from utilities.position import Positions\n",
    "\n",
    "Positions.update_alliance_positions()"
   ]
  },
  {
   "cell_type": "code",
   "execution_count": 9,
   "metadata": {},
   "outputs": [
    {
     "data": {
      "text/plain": [
       "(Pose2d(Translation2d(x=7.536000, y=6.190000), Rotation2d(3.141593)),\n",
       " Pose2d(Translation2d(x=5.218449, y=4.868842), Rotation2d(-2.094395)),\n",
       " Pose2d(Translation2d(x=1.132148, y=7.009724), Rotation2d(-0.942478)),\n",
       " Pose2d(Translation2d(x=3.838139, y=4.913842), Rotation2d(-1.047198)))"
      ]
     },
     "execution_count": 9,
     "metadata": {},
     "output_type": "execute_result"
    }
   ],
   "source": [
    "Positions.AUTON_LINE_OUR_CAGE_CENTER, Positions.REEF_F_LEFT_CLOSE, Positions.PS_LEFT, Positions.REEF_E_RIGHT_CLOSE"
   ]
  },
  {
   "cell_type": "code",
   "execution_count": null,
   "metadata": {},
   "outputs": [],
   "source": [
    "Positions.REEF_E_LEFT_CLOSE, Positions.REEF_E_RIGHT_CLOSE"
   ]
  }
 ],
 "metadata": {
  "kernelspec": {
   "display_name": ".venv",
   "language": "python",
   "name": "python3"
  },
  "language_info": {
   "codemirror_mode": {
    "name": "ipython",
    "version": 3
   },
   "file_extension": ".py",
   "mimetype": "text/x-python",
   "name": "python",
   "nbconvert_exporter": "python",
   "pygments_lexer": "ipython3",
   "version": "3.12.8"
  }
 },
 "nbformat": 4,
 "nbformat_minor": 2
}
