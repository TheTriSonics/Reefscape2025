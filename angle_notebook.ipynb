{
 "cells": [
  {
   "cell_type": "code",
   "execution_count": 1,
   "metadata": {},
   "outputs": [],
   "source": [
    "import math\n",
    "def angle_difference(angle1, angle2):\n",
    "    \"\"\"\n",
    "    Calculate the smallest difference between two angles in radians.\n",
    "    Returns the absolute difference in radians.\n",
    "    \"\"\"\n",
    "    # Normalize the difference to be between -π and π\n",
    "    diff = (angle1 - angle2) % (2 * math.pi)\n",
    "    if diff > math.pi:\n",
    "        diff = 2 * math.pi - diff\n",
    "    return diff\n"
   ]
  },
  {
   "cell_type": "code",
   "execution_count": null,
   "metadata": {},
   "outputs": [
    {
     "data": {
      "text/plain": [
       "9"
      ]
     },
     "execution_count": 5,
     "metadata": {},
     "output_type": "execute_result"
    }
   ],
   "source": [
    "def angle_diff2(angle1, angle2):\n",
    "    diff = angle1 - angle2\n",
    "    diff = ((diff + math.pi) % math.tau + math.tau) % math.tau - math.pi \n",
    "    return diff"
   ]
  },
  {
   "cell_type": "code",
   "execution_count": null,
   "metadata": {},
   "outputs": [
    {
     "data": {
      "text/plain": [
       "(0.17453292519943275, 0.0)"
      ]
     },
     "execution_count": 8,
     "metadata": {},
     "output_type": "execute_result"
    }
   ],
   "source": [
    "from math import radians, degrees\n",
    "rrad = radians(350)\n",
    "desired = 0\n",
    "\n",
    "angle_difference(rrad, desired), angle_difference(math.pi, 3*math.pi), angle_diff2(rrad, desired), angle_diff2(math.pi, 3*math.pi)\n",
    "\n",
    "\n"
   ]
  }
 ],
 "metadata": {
  "kernelspec": {
   "display_name": ".venv",
   "language": "python",
   "name": "python3"
  },
  "language_info": {
   "codemirror_mode": {
    "name": "ipython",
    "version": 3
   },
   "file_extension": ".py",
   "mimetype": "text/x-python",
   "name": "python",
   "nbconvert_exporter": "python",
   "pygments_lexer": "ipython3",
   "version": "3.12.8"
  }
 },
 "nbformat": 4,
 "nbformat_minor": 2
}
