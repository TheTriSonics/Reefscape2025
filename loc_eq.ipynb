{
 "cells": [
  {
   "cell_type": "code",
   "execution_count": 1,
   "metadata": {},
   "outputs": [],
   "source": [
    "from utilities.game import ManipLocation, ManipLocations"
   ]
  },
  {
   "cell_type": "code",
   "execution_count": 2,
   "metadata": {},
   "outputs": [
    {
     "data": {
      "text/plain": [
       "True"
      ]
     },
     "execution_count": 2,
     "metadata": {},
     "output_type": "execute_result"
    }
   ],
   "source": [
    "ManipLocations.HOME == ManipLocations.HOME"
   ]
  },
  {
   "cell_type": "code",
   "execution_count": null,
   "metadata": {},
   "outputs": [
    {
     "data": {
      "text/plain": [
       "True"
      ]
     },
     "execution_count": 3,
     "metadata": {},
     "output_type": "execute_result"
    },
    {
     "name": "stdout",
     "output_type": "stream",
     "text": [
      "[phoenix] CANbus Connected: sim\n",
      "[phoenix] CANbus Network Up: sim\n"
     ]
    },
    {
     "name": "stderr",
     "output_type": "stream",
     "text": [
      "[phoenix] Library initialization is complete.\n",
      "\t\n",
      "[phoenix-diagnostics] Server 2025.1.0 (Feb  6 2025, 20:31:57) running on port: 1250\n",
      "\t\n"
     ]
    }
   ],
   "source": [
    "curr_loc = ManipLocations.HOME\n",
    "curr_loc == ManipLocations.HOME"
   ]
  }
 ],
 "metadata": {
  "kernelspec": {
   "display_name": ".venv",
   "language": "python",
   "name": "python3"
  },
  "language_info": {
   "codemirror_mode": {
    "name": "ipython",
    "version": 3
   },
   "file_extension": ".py",
   "mimetype": "text/x-python",
   "name": "python",
   "nbconvert_exporter": "python",
   "pygments_lexer": "ipython3",
   "version": "3.12.8"
  }
 },
 "nbformat": 4,
 "nbformat_minor": 2
}
