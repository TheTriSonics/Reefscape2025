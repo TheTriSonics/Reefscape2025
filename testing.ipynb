{
 "cells": [
  {
   "cell_type": "code",
   "execution_count": null,
   "metadata": {},
   "outputs": [
    {
     "data": {
      "text/plain": [
       "hello\n"
      ]
     },
     "metadata": {},
     "output_type": "display_data"
    }
   ],
   "source": [
    "print('hello')"
   ]
  },
  {
   "cell_type": "code",
   "execution_count": null,
   "metadata": {},
   "outputs": [],
   "source": [
    "from robotpy_apriltag import AprilTagFieldLayout, AprilTagField\n",
    "apriltags = AprilTagFieldLayout.loadField(AprilTagField.k2025Reefscape)\n"
   ]
  },
  {
   "cell_type": "code",
   "execution_count": null,
   "metadata": {},
   "outputs": [
    {
     "data": {
      "text/plain": [
       "Pose3d(Translation3d(x=5.321046, y=4.025900, z=0.308102), Rotation3d(x=0.000000, y=0.000000, z=0.000000))\n"
      ]
     },
     "metadata": {},
     "output_type": "display_data"
    }
   ],
   "source": [
    "apriltags.getTagPose(21)"
   ]
  },
  {
   "cell_type": "code",
   "execution_count": null,
   "metadata": {},
   "outputs": [],
   "source": [
    "from wpimath.geometry import Pose2d, Rotation2d, Translation2d\n",
    "from wpimath.geometry import Pose3d, Rotation3d, Translation3d\n",
    "import math"
   ]
  },
  {
   "cell_type": "code",
   "execution_count": null,
   "metadata": {},
   "outputs": [],
   "source": [
    "tag21pose = apriltags.getTagPose(21)\n",
    "if tag21pose:\n",
    "    robot_rotation = tag21pose.rotation().toRotation2d().rotateBy(Rotation2d(math.pi))\n"
   ]
  },
  {
   "cell_type": "code",
   "execution_count": null,
   "metadata": {},
   "outputs": [
    {
     "data": {
      "text/plain": [
       "Rotation2d(1.570796)\n"
      ]
     },
     "metadata": {},
     "output_type": "display_data"
    }
   ],
   "source": [
    "robot_rotation"
   ]
  }
 ],
 "metadata": {
  "language_info": {
   "name": "python"
  }
 },
 "nbformat": 4,
 "nbformat_minor": 2
}
